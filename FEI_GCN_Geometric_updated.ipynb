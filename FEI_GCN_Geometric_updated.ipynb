{
 "cells": [
  {
   "cell_type": "markdown",
   "id": "f10d51f7",
   "metadata": {},
   "source": [
    "# Graph attention networks applied to Tag-side reconstruction\n",
    "\n",
    "In this notebook I apply a graph attention network implemented in pytorch geometric for the task of predicting if the reconstructed decay graph of a tag-side is correct."
   ]
  },
  {
   "cell_type": "markdown",
   "id": "63f3d2da",
   "metadata": {},
   "source": [
    "### Define functions of producing adjacency matrices"
   ]
  },
  {
   "cell_type": "code",
   "execution_count": 1,
   "id": "da91a1db",
   "metadata": {},
   "outputs": [],
   "source": [
    "import h5py\n",
    "import torch\n",
    "from torch_geometric.data import Data\n",
    "from torch_geometric.loader import DataLoader\n",
    "\n",
    "def recursive(index,dauindex, ndaus, matrix,nsum):\n",
    "    if index != len(ndaus)-1:\n",
    "        n = ndaus[index]\n",
    "        tmp = nsum[0]\n",
    "        for m in range(tmp,tmp+n):\n",
    "\n",
    "            matrix[index,m] = 1\n",
    "            matrix[m,index] = 1\n",
    "\n",
    "            nsum[0] = nsum[0] + 1\n",
    "\n",
    "        for m in range(tmp,tmp+n):\n",
    "            if ndaus[m] > 0:\n",
    "                recursive(m, nsum[0],ndaus,matrix,nsum)\n",
    "\n",
    "\n",
    "\n",
    "def generate_adjacency(ndaus):\n",
    "    index=0\n",
    "    n=[1]\n",
    "    matrix = np.zeros((len(ndaus),len(ndaus)))\n",
    "    recursive(0,1,ndaus,matrix,n)\n",
    "    invDsq = np.diag((1/np.sqrt(np.sum(matrix,axis=1))))\n",
    "    np.nan_to_num(invDsq,0.)\n",
    "    Laplacian = np.identity(len(ndaus)) + np.matmul(invDsq,np.matmul(matrix,invDsq))\n",
    "    return matrix + np.identity(len(ndaus))"
   ]
  },
  {
   "cell_type": "markdown",
   "id": "bc8ee79d",
   "metadata": {},
   "source": [
    "## Visualizing an adjacency matrix\n",
    "\n",
    "The adjacency matrix summarises the connections of nodes in the graph (mother daughter relations for particles decays).\n",
    "\n",
    "I stored the data in a certain format containing numbers of daughters in an array. The function generate_adjacency converts this format to the adjacency matrix."
   ]
  },
  {
   "cell_type": "code",
   "execution_count": 2,
   "id": "8c8f44ea",
   "metadata": {},
   "outputs": [],
   "source": [
    "import numpy as np\n",
    "ndaus=np.array([2,2,0,2,2,0,0,0,0])"
   ]
  },
  {
   "cell_type": "code",
   "execution_count": 3,
   "id": "448edd68",
   "metadata": {},
   "outputs": [
    {
     "data": {
      "text/plain": [
       "([<matplotlib.axis.XTick at 0x7fa1c84abee0>,\n",
       "  <matplotlib.axis.XTick at 0x7fa1c84abeb0>,\n",
       "  <matplotlib.axis.XTick at 0x7fa1c84aab60>,\n",
       "  <matplotlib.axis.XTick at 0x7fa1c82dbc10>,\n",
       "  <matplotlib.axis.XTick at 0x7fa1c82da770>,\n",
       "  <matplotlib.axis.XTick at 0x7fa1c82d94b0>,\n",
       "  <matplotlib.axis.XTick at 0x7fa1c83002e0>,\n",
       "  <matplotlib.axis.XTick at 0x7fa1c8300a30>,\n",
       "  <matplotlib.axis.XTick at 0x7fa1c8301180>],\n",
       " [Text(0, 0, '$B^{+}$'),\n",
       "  Text(1, 0, '$D^{0}$'),\n",
       "  Text(2, 0, '$\\\\pi^{+}$'),\n",
       "  Text(3, 0, '$K_{s}$'),\n",
       "  Text(4, 0, '$\\\\pi^{0}$'),\n",
       "  Text(5, 0, '$\\\\pi^{+}$'),\n",
       "  Text(6, 0, '$\\\\pi^{+}$'),\n",
       "  Text(7, 0, '$\\\\gamma$'),\n",
       "  Text(8, 0, '$\\\\gamma$')])"
      ]
     },
     "execution_count": 3,
     "metadata": {},
     "output_type": "execute_result"
    },
    {
     "data": {
      "image/png": "[encoded data removed]",
      "text/plain": [
       "<Figure size 640x480 with 1 Axes>"
      ]
     },
     "metadata": {},
     "output_type": "display_data"
    }
   ],
   "source": [
    "import matplotlib.pyplot as plt\n",
    "\n",
    "plt.imshow(generate_adjacency(ndaus))\n",
    "plt.yticks(list(range(0,9)),[\"$B^{+}$\", r\"$D^{0}$\", r\"$\\pi^{+}$\", r\"$K_{s}$\", r\"$\\pi^{0}$\", r\"$\\pi^{+}$\", r\"$\\pi^{+}$\", r\"$\\gamma$\", r\"$\\gamma$\"])\n",
    "plt.xticks(list(range(0,9)),[\"$B^{+}$\", r\"$D^{0}$\", r\"$\\pi^{+}$\", r\"$K_{s}$\", r\"$\\pi^{0}$\", r\"$\\pi^{+}$\", r\"$\\pi^{+}$\", r\"$\\gamma$\", r\"$\\gamma$\"],rotation=20) "
   ]
  },
  {
   "cell_type": "markdown",
   "id": "d1467c4d",
   "metadata": {},
   "source": [
    "## Data processing "
   ]
  },
  {
   "cell_type": "code",
   "execution_count": 4,
   "id": "10f0fd03",
   "metadata": {},
   "outputs": [],
   "source": [
    "import glob\n",
    "files = glob.glob(\"GraphFEI7/git_hash=light-2210-devonrex/*/feiHadronicBzero=True/feiHadronicBplus=True/*.hdf5\")"
   ]
  },
  {
   "cell_type": "code",
   "execution_count": 5,
   "id": "64f8123e",
   "metadata": {},
   "outputs": [
    {
     "data": {
      "text/plain": [
       "600"
      ]
     },
     "execution_count": 5,
     "metadata": {},
     "output_type": "execute_result"
    }
   ],
   "source": [
    "len(files)"
   ]
  },
  {
   "cell_type": "markdown",
   "id": "bbd6a17b",
   "metadata": {},
   "source": [
    "### Store Train Data"
   ]
  },
  {
   "cell_type": "code",
   "execution_count": 6,
   "id": "8a61aaea",
   "metadata": {},
   "outputs": [],
   "source": [
    "import h5py\n",
    "data=[]\n",
    "Xs=[]\n",
    "count=0\n",
    "Npars=[]\n",
    "# We loop over 50 files to first determine a normalization\n",
    "for file in files[:50]:\n",
    "    f1 = h5py.File(file,'r+') \n",
    "    for event in f1.keys():\n",
    "        for key in f1[event].keys():\n",
    "            Btag = f1[event][key]\n",
    "            ndaus = Btag.attrs['ndaughters']\n",
    "            N = np.sum(ndaus) +1\n",
    "            Npars.append(N)\n",
    "            Btag.attrs['ndaughters'][0]\n",
    "            # We always take data if its correct and randomly choose uncorrect tag-side candidates\n",
    "            if not np.isnan(Btag.attrs['isSignal']) and not np.isnan(np.sum(np.array(Btag))) and (np.random.uniform(0,1,1)[0] < 0.5 or Btag.attrs['isSignal'] == 1):\n",
    "                X = np.array(Btag) \n",
    "                #A = generate_adjacency([ndaus[0]] + (N-1)*[0])\n",
    "                # Generate the adjacency\n",
    "                A = generate_adjacency(ndaus)\n",
    "                X = X[:, :]\n",
    "\n",
    "                # Here we mask out certain features of the B\n",
    "                X[0][0] = 0\n",
    "                X[0][3] = 0\n",
    "                X[0][4] = 0\n",
    "                \n",
    "                Xs.append(X)\n",
    "                X = torch.tensor(X, dtype=torch.float)\n",
    "                y = torch.tensor(Btag.attrs['isSignal'], dtype=torch.int64)\n",
    "                edges =torch.tensor(A, dtype=torch.float).nonzero().t().contiguous() \n",
    "                data.append(Data(x=X, edge_index=edges,y=y,mbc=Btag.attrs['Mbc']))\n",
    "                if  Btag.attrs['isSignal'] == 0:\n",
    "                    count = count + 1"
   ]
  },
  {
   "cell_type": "code",
   "execution_count": 7,
   "id": "fb5ce5af",
   "metadata": {},
   "outputs": [],
   "source": [
    "xmax = np.max(np.concatenate(Xs),axis=0)\n",
    "xmin = np.min(np.concatenate(Xs),axis=0)"
   ]
  },
  {
   "cell_type": "code",
   "execution_count": null,
   "id": "1cec78d1",
   "metadata": {},
   "outputs": [],
   "source": []
  },
  {
   "cell_type": "code",
   "execution_count": 8,
   "id": "49a5d27b",
   "metadata": {},
   "outputs": [],
   "source": [
    "import h5py\n",
    "data=[]\n",
    "Xs=[]\n",
    "count=0\n",
    "Npars=[]\n",
    "# We now loop over 200 files for the training set\n",
    "for file in files[:570]:\n",
    "    f1 = h5py.File(file,'r+') \n",
    "    for event in f1.keys():\n",
    "        for key in f1[event].keys():\n",
    "            Btag = f1[event][key]\n",
    "            ndaus = Btag.attrs['ndaughters']\n",
    "            N = np.sum(ndaus) +1\n",
    "            Npars.append(N)\n",
    "            Btag.attrs['ndaughters'][0]\n",
    "            # We always take data if its correct and randomly choose uncorrect tag-side candidates\n",
    "            if not np.isnan(Btag.attrs['isSignal']) and not np.isnan(np.sum(np.array(Btag))) and (np.random.uniform(0,1,1)[0] < 0.5 or Btag.attrs['isSignal'] == 1):\n",
    "                # Normalize X\n",
    "                X = np.array(Btag) /np.abs(xmax-xmin)\n",
    "\n",
    "                A = generate_adjacency(ndaus)\n",
    "                X = X[:, :]\n",
    "\n",
    "                # Here we mask out certain features of the B\n",
    "                X[0][0] = 0\n",
    "                X[0][3] = 0\n",
    "                X[0][4] = 0\n",
    "                \n",
    "                Xs.append(X)\n",
    "                X = torch.tensor(X, dtype=torch.float)\n",
    "                y = torch.tensor(Btag.attrs['isSignal'], dtype=torch.int64)\n",
    "                edges =torch.tensor(A, dtype=torch.float).nonzero().t().contiguous() \n",
    "                data.append(Data(x=X, edge_index=edges,y=y,mbc=Btag.attrs['Mbc']))\n",
    "                if  Btag.attrs['isSignal'] == 0:\n",
    "                    count = count + 1"
   ]
  },
  {
   "cell_type": "code",
   "execution_count": 9,
   "id": "1700eaef",
   "metadata": {},
   "outputs": [
    {
     "data": {
      "text/plain": [
       "Text(0.5, 0, 'Number of particles in FEI reco decay')"
      ]
     },
     "execution_count": 9,
     "metadata": {},
     "output_type": "execute_result"
    },
    {
     "data": {
      "image/png": "[encoded data removed]",
      "text/plain": [
       "<Figure size 640x480 with 1 Axes>"
      ]
     },
     "metadata": {},
     "output_type": "display_data"
    }
   ],
   "source": [
    "import matplotlib.pyplot as plt\n",
    "plt.hist(Npars,range=(0,25),bins=25)\n",
    "plt.xlabel('Number of particles in FEI reco decay')"
   ]
  },
  {
   "cell_type": "code",
   "execution_count": 10,
   "id": "98a49ce2",
   "metadata": {},
   "outputs": [
    {
     "data": {
      "text/plain": [
       "251115"
      ]
     },
     "execution_count": 10,
     "metadata": {},
     "output_type": "execute_result"
    }
   ],
   "source": [
    "count"
   ]
  },
  {
   "cell_type": "markdown",
   "id": "08382c44",
   "metadata": {},
   "source": [
    "### Store Validation Data "
   ]
  },
  {
   "cell_type": "code",
   "execution_count": 11,
   "id": "fb40f728",
   "metadata": {},
   "outputs": [],
   "source": [
    "# Now store validation Data\n",
    "\n",
    "valdata=[]\n",
    "valXs=[]\n",
    "valys=[]\n",
    "count=0\n",
    "feiprobs=[]\n",
    "feimbcs =[]\n",
    "\n",
    "\n",
    "from torch_geometric.data import Data\n",
    "from torch_geometric.loader import DataLoader\n",
    "for file in files[570:600]:\n",
    "    f1 = h5py.File(file,'r+') \n",
    "    for event in f1.keys():\n",
    "        for key in f1[event].keys():\n",
    "            Btag = f1[event][key]\n",
    "            ndaus = Btag.attrs['ndaughters']\n",
    "            N = np.sum(ndaus[0]) +1\n",
    "            N = np.sum(ndaus) +1\n",
    "            Btag.attrs['ndaughters'][0]\n",
    "            if not np.isnan(Btag.attrs['isSignal']) and not np.isnan(np.sum(np.array(Btag))) and (np.random.uniform(0,1,1)[0] < 0.5 or Btag.attrs['isSignal'] == 1):\n",
    "                X = np.array(Btag)\n",
    "\n",
    "                A = generate_adjacency(ndaus)\n",
    "                X = X[:, :]/np.abs(xmax-xmin)\n",
    "\n",
    "                feiprobs.append(X[0][0])\n",
    "                feimbcs.append(Btag.attrs['Mbc'])\n",
    "                X[0][0] = 0\n",
    "                X[0][3] = 0\n",
    "                X[0][4] = 0\n",
    "                valXs.append(X)\n",
    "\n",
    "                X = torch.tensor(X, dtype=torch.float)\n",
    "                y = torch.tensor(Btag.attrs['isSignal'], dtype=torch.int64)\n",
    "                valys.append(Btag.attrs['isSignal'])\n",
    "                \n",
    "                edges =torch.tensor(A, dtype=torch.float).nonzero().t().contiguous() \n",
    "                valdata.append(Data(x=X, edge_index=edges,y=y,mbc=Btag.attrs['Mbc']))\n",
    "                if  Btag.attrs['isSignal'] == 0:\n",
    "                    count = count + 1"
   ]
  },
  {
   "cell_type": "markdown",
   "id": "d3325015",
   "metadata": {},
   "source": [
    "## Data loaders"
   ]
  },
  {
   "cell_type": "code",
   "execution_count": 12,
   "id": "19e94c9c",
   "metadata": {},
   "outputs": [],
   "source": [
    "from torch_geometric.data import Data\n",
    "from torch_geometric.loader import DataLoader\n",
    "\n",
    "loader = DataLoader(data, batch_size=32, shuffle=True)\n",
    "valloader = DataLoader(valdata, batch_size=32, shuffle=True)"
   ]
  },
  {
   "cell_type": "markdown",
   "id": "aaa9d7da",
   "metadata": {},
   "source": [
    "## Define Model"
   ]
  },
  {
   "cell_type": "code",
   "execution_count": 19,
   "id": "b243bb04",
   "metadata": {},
   "outputs": [],
   "source": [
    "import torch\n",
    "import torch.nn.functional as F\n",
    "from torch_geometric.nn import GCNConv\n",
    "from torch_geometric.nn import GATConv\n",
    "from torch_geometric.nn import NNConv, global_mean_pool\n",
    "from torch import nn\n",
    "\n",
    "\n",
    "\n",
    "class GCN(torch.nn.Module):\n",
    "    def __init__(self):\n",
    "        super().__init__()\n",
    "        self.hid = 8\n",
    "        self.in_head = 8\n",
    "        self.out_head = 1\n",
    "        \n",
    "        self.gconv1 = GATConv(18, self.hid, heads=self.in_head, dropout=0.2)\n",
    "        self.gconv2 = GATConv(self.hid*self.in_head, 128, concat=False, droput=0.2)\n",
    "        self.gconv3 = GATConv(128, 256, concat=False, droput=0.2)\n",
    "        self.fc_1 = nn.Linear(256, 128)\n",
    "        self.fc_2 = nn.Linear(128, 32)\n",
    "        self.fc_3 = nn.Linear(32, 2)\n",
    "        \n",
    "\n",
    "    def forward(self, data):\n",
    "        x, edge_index = data.x, data.edge_index\n",
    "\n",
    "        x = self.gconv1(x, edge_index)\n",
    "        x = F.relu(x)\n",
    "        x = self.gconv2(x, edge_index)\n",
    "        x = F.relu(x)\n",
    "        x = self.gconv3(x, edge_index)\n",
    "        x = F.relu(x)\n",
    "        x = global_mean_pool(x, data.batch)\n",
    "        x = F.relu(self.fc_1(x))\n",
    "        x = F.relu(self.fc_2(x))\n",
    "        x = self.fc_3(x)\n",
    "\n",
    "        return x\n",
    " \n"
   ]
  },
  {
   "cell_type": "code",
   "execution_count": null,
   "id": "7d4f2cb8",
   "metadata": {},
   "outputs": [],
   "source": []
  },
  {
   "cell_type": "markdown",
   "id": "a95d500c",
   "metadata": {},
   "source": [
    "##  Training"
   ]
  },
  {
   "cell_type": "code",
   "execution_count": 22,
   "id": "c47b37d1",
   "metadata": {},
   "outputs": [],
   "source": [
    "losses = []\n",
    "accuracy = []\n",
    "vallosses = []\n",
    "valaccuracy = []\n",
    "device = torch.device('cuda' if torch.cuda.is_available() else 'cpu')\n",
    "\n",
    "model = GCN().to(device)"
   ]
  },
  {
   "cell_type": "code",
   "execution_count": 35,
   "id": "00aff0f8",
   "metadata": {
    "scrolled": true
   },
   "outputs": [
    {
     "name": "stdout",
     "output_type": "stream",
     "text": [
      "Epoch  0\n",
      "Training Loss  42.03802898839058\n",
      "Training Accuracy %  96.8625595766232\n",
      "Val Loss  2.320518562453799\n",
      "Val Accuracy %  96.8100585755326\n",
      "Training eff Loss  0\n",
      "\n",
      "Epoch  1\n",
      "Training Loss  41.99755712987826\n",
      "Training Accuracy %  96.86295217381063\n",
      "Val Loss  2.3046988677378977\n",
      "Val Accuracy %  96.88094616274297\n",
      "Training eff Loss  0\n",
      "\n"
     ]
    }
   ],
   "source": [
    "\n",
    "optimizer_GCN = torch.optim.Adam(model.parameters(), lr=0.00001)\n",
    "\n",
    "criterion = nn.CrossEntropyLoss()\n",
    "\n",
    "\n",
    "for epoch in range(2):\n",
    "    total = 0\n",
    "    correct = 0\n",
    "    valtotal = 0\n",
    "    valcorrect = 0\n",
    "    epoch_loss = 0 \n",
    "    val_epoch_loss = 0\n",
    "    train_eff_loss = 0 \n",
    "    \n",
    "    for b in loader:\n",
    "        b.to(device)         \n",
    "        optimizer_GCN.zero_grad()\n",
    "        out = model(b)\n",
    "        loss = criterion(out, b.y) \n",
    "        loss.backward()\n",
    "        optimizer_GCN.step()\n",
    "        ypred = torch.argmax(out,dim=1)\n",
    "        total += b.y.size(0)\n",
    "        epoch_loss += loss.item()/32\n",
    "\n",
    "        correct += torch.sum(b.y == ypred).item()\n",
    "        \n",
    "    for b in valloader:\n",
    "        b.to(device)\n",
    "        out = model(b)\n",
    "        valloss = criterion(out, b.y)\n",
    "        ypred = torch.argmax(out,dim=1)\n",
    "        valtotal += b.y.size(0)\n",
    "        val_epoch_loss += valloss.item()/32\n",
    "\n",
    "        valcorrect += torch.sum(b.y == ypred).item()\n",
    "            \n",
    "        \n",
    "    print(\"Epoch \", epoch)    \n",
    "    print(\"Training Loss \", epoch_loss)\n",
    "    print(\"Training Accuracy % \", 100*correct/total)\n",
    "    print(\"Val Loss \", val_epoch_loss)\n",
    "    print(\"Val Accuracy % \", 100*valcorrect/valtotal)\n",
    "    print(\"Training eff Loss \", train_eff_loss)\n",
    "\n",
    "    losses.append(epoch_loss)\n",
    "    accuracy.append(100*correct/total)\n",
    "    vallosses.append(val_epoch_loss)\n",
    "    valaccuracy.append(100*valcorrect/valtotal)\n",
    "    print(\"\")"
   ]
  },
  {
   "cell_type": "markdown",
   "id": "e204035c",
   "metadata": {},
   "source": [
    "## Performance"
   ]
  },
  {
   "cell_type": "markdown",
   "id": "c41ebdce",
   "metadata": {},
   "source": [
    "### Define several variables of interest"
   ]
  },
  {
   "cell_type": "code",
   "execution_count": 36,
   "id": "54221b76",
   "metadata": {},
   "outputs": [],
   "source": [
    "ypreds=[]\n",
    "ys=[]\n",
    "mbcs =[]\n",
    "for b in valloader:\n",
    "    b.to(device)\n",
    "    \n",
    "    out = model(b)\n",
    "    #ypreds=np.concatenate(ypreds)\n",
    "    ypreds.append(torch.nn.Softmax(dim=1)(out)[:,1].detach().cpu().numpy())\n",
    "    ys.append(b.y.detach().cpu().numpy())\n",
    "    mbcs.append(b.mbc.detach().cpu().numpy())\n",
    "\n"
   ]
  },
  {
   "cell_type": "code",
   "execution_count": 37,
   "id": "db60575a",
   "metadata": {},
   "outputs": [],
   "source": [
    "ypreds=np.concatenate(ypreds)\n",
    "ys=np.concatenate(ys)\n",
    "mbcs=np.concatenate(mbcs)   "
   ]
  },
  {
   "cell_type": "code",
   "execution_count": 38,
   "id": "b43a4546",
   "metadata": {},
   "outputs": [],
   "source": [
    "import numpy as np\n",
    "import matplotlib.pyplot as plt\n",
    "\n",
    "\n",
    "from sklearn.datasets import make_classification\n",
    "import sklearn.model_selection\n",
    "from sklearn import metrics"
   ]
  },
  {
   "cell_type": "code",
   "execution_count": 39,
   "id": "5ff6aaa6",
   "metadata": {},
   "outputs": [],
   "source": [
    "fpr, tpr, _ = metrics.roc_curve(ys,  ypreds)\n",
    "fpr2, tpr2, _ = metrics.roc_curve(np.array(valys),  np.array(feiprobs))\n",
    "#conf = metrics.confusion_matrix(y_train,  y_pred_train)\n",
    "auc = metrics.roc_auc_score(ys,  ypreds)\n",
    "auc2 = metrics.roc_auc_score(np.array(valys),  np.array(feiprobs))"
   ]
  },
  {
   "cell_type": "code",
   "execution_count": 40,
   "id": "36505c69",
   "metadata": {},
   "outputs": [
    {
     "data": {
      "text/plain": [
       "array([3.34328064e-02, 7.35289065e-01, 6.48846115e-01, ...,\n",
       "       3.71847317e-05, 1.05966674e-04, 7.47062695e-05])"
      ]
     },
     "execution_count": 40,
     "metadata": {},
     "output_type": "execute_result"
    }
   ],
   "source": [
    "np.array(feiprobs)"
   ]
  },
  {
   "cell_type": "code",
   "execution_count": 41,
   "id": "75d6f8c7",
   "metadata": {},
   "outputs": [
    {
     "data": {
      "image/png": "[encoded data removed]",
      "text/plain": [
       "<Figure size 640x480 with 1 Axes>"
      ]
     },
     "metadata": {},
     "output_type": "display_data"
    }
   ],
   "source": [
    "plt.plot(fpr,tpr,label=\"GATCONV AUC={:.3f}\".format(auc))\n",
    "plt.plot(fpr2,tpr2,label=\"FEI AUC={:.3f}\".format(auc2))\n",
    "#plt.plot(fpr,tpr_test,label=\"AUC={:.3f}\".format(auc))\n",
    "plt.ylabel('Efficiency')\n",
    "plt.xlabel('Misidentification rate')\n",
    "plt.title('ROC curve')\n",
    "plt.legend()\n",
    "plt.show()"
   ]
  },
  {
   "cell_type": "code",
   "execution_count": 46,
   "id": "c00db12a",
   "metadata": {},
   "outputs": [],
   "source": [
    "epochs = np.arange(1, len(losses)+1)"
   ]
  },
  {
   "cell_type": "code",
   "execution_count": 47,
   "id": "c4d33a2e",
   "metadata": {},
   "outputs": [
    {
     "data": {
      "text/plain": [
       "12"
      ]
     },
     "execution_count": 47,
     "metadata": {},
     "output_type": "execute_result"
    }
   ],
   "source": [
    "len(losses)"
   ]
  },
  {
   "cell_type": "code",
   "execution_count": 50,
   "id": "8e82673d",
   "metadata": {},
   "outputs": [
    {
     "data": {
      "text/plain": [
       "Text(0, 0.5, 'Loss')"
      ]
     },
     "execution_count": 50,
     "metadata": {},
     "output_type": "execute_result"
    },
    {
     "data": {
      "image/png": "[encoded data removed]",
      "text/plain": [
       "<Figure size 640x480 with 1 Axes>"
      ]
     },
     "metadata": {},
     "output_type": "display_data"
    }
   ],
   "source": [
    "plt.plot(epochs,np.array(losses)*32./len(Xs))\n",
    "plt.plot(epochs,np.array(vallosses)*32./len(valXs))\n",
    "plt.xlabel('Epochs')\n",
    "plt.ylabel('Loss')"
   ]
  },
  {
   "cell_type": "code",
   "execution_count": 49,
   "id": "89e675e4",
   "metadata": {},
   "outputs": [
    {
     "data": {
      "text/plain": [
       "Text(0, 0.5, 'Accuracy')"
      ]
     },
     "execution_count": 49,
     "metadata": {},
     "output_type": "execute_result"
    },
    {
     "data": {
      "image/png": "[encoded data removed]",
      "text/plain": [
       "<Figure size 640x480 with 1 Axes>"
      ]
     },
     "metadata": {},
     "output_type": "display_data"
    }
   ],
   "source": [
    "import matplotlib.pyplot as plt\n",
    "\n",
    "plt.plot(epochs,accuracy)\n",
    "plt.plot(epochs,valaccuracy)\n",
    "plt.xlabel('Epochs')\n",
    "plt.ylabel('Accuracy')\n"
   ]
  },
  {
   "cell_type": "code",
   "execution_count": null,
   "id": "169b8615",
   "metadata": {},
   "outputs": [],
   "source": []
  }
 ],
 "metadata": {
  "kernelspec": {
   "display_name": "Python 3 (ipykernel)",
   "language": "python",
   "name": "python3"
  },
  "language_info": {
   "codemirror_mode": {
    "name": "ipython",
    "version": 3
   },
   "file_extension": ".py",
   "mimetype": "text/x-python",
   "name": "python",
   "nbconvert_exporter": "python",
   "pygments_lexer": "ipython3",
   "version": "3.10.9"
  }
 },
 "nbformat": 4,
 "nbformat_minor": 5
}
